{
 "cells": [
  {
   "cell_type": "markdown",
   "id": "12b3281f",
   "metadata": {},
   "source": [
    "### Installations"
   ]
  },
  {
   "cell_type": "code",
   "execution_count": 1,
   "id": "d9eea987",
   "metadata": {},
   "outputs": [],
   "source": [
    "# Installations to be done apart from tensorflow and keras.\n",
    "# !pip install scikit-learn\n",
    "# !pip install scikit-image\n",
    "# !pip install pandas\n",
    "# !pip install numpy\n",
    "# !pip install matplotlib\n",
    "# !pip install tqdm"
   ]
  },
  {
   "cell_type": "markdown",
   "id": "13fd0467",
   "metadata": {},
   "source": [
    "### Imports\n",
    "\n",
    "Imports used in the code"
   ]
  },
  {
   "cell_type": "code",
   "execution_count": 38,
   "id": "cdbb3eb5",
   "metadata": {},
   "outputs": [],
   "source": [
    "import tensorflow as tf\n",
    "import pandas as pd\n",
    "import numpy as np\n",
    "import matplotlib.pyplot as plt\n",
    "from tqdm import tqdm\n",
    "from skimage import data, io, filters\n",
    "from skimage.transform import resize\n",
    "from sklearn.model_selection import train_test_split\n",
    "from keras import backend as K\n",
    "from tensorflow.keras.optimizers import Adam\n",
    "from keras.initializers import RandomNormal\n",
    "from keras.models import Model, Input\n",
    "from keras import layers\n",
    "from keras.layers import Dense, BatchNormalization, Dropout, Flatten, Conv2D, Conv2DTranspose, LeakyReLU, Activation, Concatenate, MaxPooling2D\n",
    "from keras.preprocessing.image import ImageDataGenerator\n",
    "from collections import OrderedDict\n",
    "import json"
   ]
  },
  {
   "cell_type": "markdown",
   "id": "93c94423",
   "metadata": {},
   "source": [
    "### F1\n",
    "Functions used to produce F1 score."
   ]
  },
  {
   "cell_type": "code",
   "execution_count": 6,
   "id": "9ff86c25",
   "metadata": {},
   "outputs": [],
   "source": [
    "# Used later for f1 score\n",
    "def recall_m(y_true, y_pred):\n",
    "    true_positives = K.sum(K.round(K.clip(y_true * y_pred, 0, 1)))\n",
    "    possible_positives = K.sum(K.round(K.clip(y_true, 0, 1)))\n",
    "    recall = true_positives / (possible_positives + K.epsilon())\n",
    "    return recall\n",
    "\n",
    "def precision_m(y_true, y_pred):\n",
    "    true_positives = K.sum(K.round(K.clip(y_true * y_pred, 0, 1)))\n",
    "    predicted_positives = K.sum(K.round(K.clip(y_pred, 0, 1)))\n",
    "    precision = true_positives / (predicted_positives + K.epsilon())\n",
    "    return precision\n",
    "\n",
    "def f1_m(y_true, y_pred):\n",
    "    precision = precision_m(y_true, y_pred)\n",
    "    recall = recall_m(y_true, y_pred)\n",
    "    return 2*((precision*recall)/(precision+recall+K.epsilon()))"
   ]
  },
  {
   "cell_type": "markdown",
   "id": "804dbc42",
   "metadata": {},
   "source": [
    "### Read the file\n",
    "Read the file, check if the data is clean (it is). Check the number of instance for each category (the cell has beenn removed). Then one-hot encoding of the classes. The cell with the data split was used to try different models and chose between them (and to know real results and not just the overfitted ones)."
   ]
  },
  {
   "cell_type": "code",
   "execution_count": 36,
   "id": "f850d81b",
   "metadata": {},
   "outputs": [],
   "source": [
    "# Read the file\n",
    "df = pd.read_csv('train.csv')\n",
    "df_test = pd.read_csv('test.csv')"
   ]
  },
  {
   "cell_type": "code",
   "execution_count": 8,
   "id": "e507b8d9",
   "metadata": {},
   "outputs": [
    {
     "data": {
      "text/html": [
       "<div>\n",
       "<style scoped>\n",
       "    .dataframe tbody tr th:only-of-type {\n",
       "        vertical-align: middle;\n",
       "    }\n",
       "\n",
       "    .dataframe tbody tr th {\n",
       "        vertical-align: top;\n",
       "    }\n",
       "\n",
       "    .dataframe thead th {\n",
       "        text-align: right;\n",
       "    }\n",
       "</style>\n",
       "<table border=\"1\" class=\"dataframe\">\n",
       "  <thead>\n",
       "    <tr style=\"text-align: right;\">\n",
       "      <th></th>\n",
       "      <th>label</th>\n",
       "      <th>latitude</th>\n",
       "      <th>longitude</th>\n",
       "      <th>year</th>\n",
       "      <th>example_path</th>\n",
       "      <th>p</th>\n",
       "      <th>g</th>\n",
       "      <th>s</th>\n",
       "    </tr>\n",
       "  </thead>\n",
       "  <tbody>\n",
       "    <tr>\n",
       "      <th>0</th>\n",
       "      <td>0</td>\n",
       "      <td>-2.051853</td>\n",
       "      <td>111.826093</td>\n",
       "      <td>2001</td>\n",
       "      <td>train_test_data/train/1297.png</td>\n",
       "      <td>1</td>\n",
       "      <td>0</td>\n",
       "      <td>0</td>\n",
       "    </tr>\n",
       "    <tr>\n",
       "      <th>1</th>\n",
       "      <td>2</td>\n",
       "      <td>-1.989349</td>\n",
       "      <td>105.309496</td>\n",
       "      <td>2013</td>\n",
       "      <td>train_test_data/train/1199.png</td>\n",
       "      <td>0</td>\n",
       "      <td>0</td>\n",
       "      <td>1</td>\n",
       "    </tr>\n",
       "    <tr>\n",
       "      <th>2</th>\n",
       "      <td>0</td>\n",
       "      <td>1.223256</td>\n",
       "      <td>100.702217</td>\n",
       "      <td>2014</td>\n",
       "      <td>train_test_data/train/1348.png</td>\n",
       "      <td>1</td>\n",
       "      <td>0</td>\n",
       "      <td>0</td>\n",
       "    </tr>\n",
       "    <tr>\n",
       "      <th>3</th>\n",
       "      <td>0</td>\n",
       "      <td>-2.342948</td>\n",
       "      <td>103.890226</td>\n",
       "      <td>2008</td>\n",
       "      <td>train_test_data/train/2214.png</td>\n",
       "      <td>1</td>\n",
       "      <td>0</td>\n",
       "      <td>0</td>\n",
       "    </tr>\n",
       "    <tr>\n",
       "      <th>4</th>\n",
       "      <td>0</td>\n",
       "      <td>-0.126555</td>\n",
       "      <td>101.758175</td>\n",
       "      <td>2011</td>\n",
       "      <td>train_test_data/train/2220.png</td>\n",
       "      <td>1</td>\n",
       "      <td>0</td>\n",
       "      <td>0</td>\n",
       "    </tr>\n",
       "    <tr>\n",
       "      <th>...</th>\n",
       "      <td>...</td>\n",
       "      <td>...</td>\n",
       "      <td>...</td>\n",
       "      <td>...</td>\n",
       "      <td>...</td>\n",
       "      <td>...</td>\n",
       "      <td>...</td>\n",
       "      <td>...</td>\n",
       "    </tr>\n",
       "    <tr>\n",
       "      <th>1709</th>\n",
       "      <td>0</td>\n",
       "      <td>3.819464</td>\n",
       "      <td>117.636112</td>\n",
       "      <td>2016</td>\n",
       "      <td>train_test_data/train/550.png</td>\n",
       "      <td>1</td>\n",
       "      <td>0</td>\n",
       "      <td>0</td>\n",
       "    </tr>\n",
       "    <tr>\n",
       "      <th>1710</th>\n",
       "      <td>0</td>\n",
       "      <td>-1.809594</td>\n",
       "      <td>111.531951</td>\n",
       "      <td>2005</td>\n",
       "      <td>train_test_data/train/2264.png</td>\n",
       "      <td>1</td>\n",
       "      <td>0</td>\n",
       "      <td>0</td>\n",
       "    </tr>\n",
       "    <tr>\n",
       "      <th>1711</th>\n",
       "      <td>1</td>\n",
       "      <td>0.443397</td>\n",
       "      <td>112.200163</td>\n",
       "      <td>2012</td>\n",
       "      <td>train_test_data/train/1486.png</td>\n",
       "      <td>0</td>\n",
       "      <td>1</td>\n",
       "      <td>0</td>\n",
       "    </tr>\n",
       "    <tr>\n",
       "      <th>1712</th>\n",
       "      <td>2</td>\n",
       "      <td>-1.978349</td>\n",
       "      <td>101.970148</td>\n",
       "      <td>2012</td>\n",
       "      <td>train_test_data/train/1170.png</td>\n",
       "      <td>0</td>\n",
       "      <td>0</td>\n",
       "      <td>1</td>\n",
       "    </tr>\n",
       "    <tr>\n",
       "      <th>1713</th>\n",
       "      <td>2</td>\n",
       "      <td>0.780981</td>\n",
       "      <td>123.368557</td>\n",
       "      <td>2013</td>\n",
       "      <td>train_test_data/train/273.png</td>\n",
       "      <td>0</td>\n",
       "      <td>0</td>\n",
       "      <td>1</td>\n",
       "    </tr>\n",
       "  </tbody>\n",
       "</table>\n",
       "<p>1714 rows × 8 columns</p>\n",
       "</div>"
      ],
      "text/plain": [
       "      label  latitude   longitude  year                    example_path  p  g  \\\n",
       "0         0 -2.051853  111.826093  2001  train_test_data/train/1297.png  1  0   \n",
       "1         2 -1.989349  105.309496  2013  train_test_data/train/1199.png  0  0   \n",
       "2         0  1.223256  100.702217  2014  train_test_data/train/1348.png  1  0   \n",
       "3         0 -2.342948  103.890226  2008  train_test_data/train/2214.png  1  0   \n",
       "4         0 -0.126555  101.758175  2011  train_test_data/train/2220.png  1  0   \n",
       "...     ...       ...         ...   ...                             ... .. ..   \n",
       "1709      0  3.819464  117.636112  2016   train_test_data/train/550.png  1  0   \n",
       "1710      0 -1.809594  111.531951  2005  train_test_data/train/2264.png  1  0   \n",
       "1711      1  0.443397  112.200163  2012  train_test_data/train/1486.png  0  1   \n",
       "1712      2 -1.978349  101.970148  2012  train_test_data/train/1170.png  0  0   \n",
       "1713      2  0.780981  123.368557  2013   train_test_data/train/273.png  0  0   \n",
       "\n",
       "      s  \n",
       "0     0  \n",
       "1     1  \n",
       "2     0  \n",
       "3     0  \n",
       "4     0  \n",
       "...  ..  \n",
       "1709  0  \n",
       "1710  0  \n",
       "1711  0  \n",
       "1712  1  \n",
       "1713  1  \n",
       "\n",
       "[1714 rows x 8 columns]"
      ]
     },
     "execution_count": 8,
     "metadata": {},
     "output_type": "execute_result"
    }
   ],
   "source": [
    "# One hot encoding\n",
    "df['p'] = df['label'].apply(lambda x : 1 if x==0 else 0)\n",
    "df['g'] = df['label'].apply(lambda x : 1 if x==1 else 0)\n",
    "df['s'] = df['label'].apply(lambda x : 1 if x==2 else 0)\n",
    "df"
   ]
  },
  {
   "cell_type": "code",
   "execution_count": 19,
   "id": "97efdc46",
   "metadata": {},
   "outputs": [
    {
     "name": "stderr",
     "output_type": "stream",
     "text": [
      "100%|██████████| 1714/1714 [00:24<00:00, 70.90it/s]\n",
      "100%|██████████| 635/635 [00:08<00:00, 70.95it/s]\n"
     ]
    }
   ],
   "source": [
    "# Load the datasets \n",
    "X_dataset = []\n",
    "X_test = []\n",
    "y = np.array(df[['p','g','s']])\n",
    "\n",
    "for i in tqdm(range(df.shape[0])):\n",
    "    img = io.imread(df.iloc[i]['example_path'])\n",
    "    img = img/255.\n",
    "    X_dataset.append(resize(img,(224,224,3)))\n",
    "X = np.array(X_dataset)\n",
    "\n",
    "for i in tqdm(range(df_test.shape[0])):\n",
    "    img = io.imread(df.iloc[i]['example_path'])\n",
    "    img = img/255.\n",
    "    X_test.append(resize(img,(224,224,3)))\n",
    "X_test = np.array(X_test) "
   ]
  },
  {
   "cell_type": "code",
   "execution_count": 22,
   "id": "24112f34",
   "metadata": {},
   "outputs": [],
   "source": [
    "# Split for model selection purposes\n",
    "# X_train, X_test, y_train, y_test = train_test_split(X, y, random_state=20, test_size=0.2)\n",
    "# Use next line with end model\n",
    "X_train = X\n",
    "y_train = y"
   ]
  },
  {
   "cell_type": "markdown",
   "id": "b1367108",
   "metadata": {},
   "source": [
    "### Data augmentation\n",
    "The quantity of data is not balanced. Augment the data and try to balance it. In the presentation is explained how it was done"
   ]
  },
  {
   "cell_type": "code",
   "execution_count": 23,
   "id": "0767bea3",
   "metadata": {},
   "outputs": [
    {
     "name": "stderr",
     "output_type": "stream",
     "text": [
      "100%|██████████| 1714/1714 [00:30<00:00, 56.24it/s]\n"
     ]
    }
   ],
   "source": [
    "# Data augmentation. Augment only train data. \n",
    "train_datagen = ImageDataGenerator(\n",
    "    rotation_range=0.1,\n",
    "    zoom_range=0.1,\n",
    "    width_shift_range=0.1,\n",
    "    height_shift_range=0.1,\n",
    "    horizontal_flip=True,\n",
    "    vertical_flip=True)\n",
    "\n",
    "X = []\n",
    "for i in X_train:\n",
    "    X.append(i)\n",
    "    \n",
    "number_gen = 2\n",
    "for i in tqdm(range(len(X_train))):\n",
    "    gen = train_datagen.flow(X_train[i:i+1])\n",
    "    \n",
    "    # Equilibrate classes\n",
    "    if y_train[i][1] == 1:\n",
    "        number_gen = 7\n",
    "    else:\n",
    "        number_gen = 2\n",
    "        \n",
    "    for j in range(number_gen):\n",
    "        y_train = np.vstack([y_train, y_train[i]])\n",
    "        X.append(gen[0][0])\n",
    "        \n",
    "X_train = np.array(X)"
   ]
  },
  {
   "cell_type": "markdown",
   "id": "d63db8db",
   "metadata": {},
   "source": [
    "### Select model\n",
    "We have tried VGG16, ResNet50 and other models. We also tried our own models. With out own model we obtained 74-76 accuracy on validation. With VGG16 the same. ResNet550 less. The best option that we found is MobileNet obtaining 79-82."
   ]
  },
  {
   "cell_type": "code",
   "execution_count": 26,
   "id": "716950fc",
   "metadata": {},
   "outputs": [],
   "source": [
    "# Download pretrained model.\n",
    "mobile = tf.keras.applications.mobilenet.MobileNet()"
   ]
  },
  {
   "cell_type": "code",
   "execution_count": 27,
   "id": "c976789f",
   "metadata": {},
   "outputs": [],
   "source": [
    "# Add our layers. We have seen that the best option is with 1 Dense at the end.\n",
    "m = mobile.layers[-6].output\n",
    "output = Dense(units=3, activation=\"softmax\")(m)"
   ]
  },
  {
   "cell_type": "code",
   "execution_count": 29,
   "id": "1af19f94",
   "metadata": {},
   "outputs": [],
   "source": [
    "model = Model(inputs=mobile.input, outputs=output)"
   ]
  },
  {
   "cell_type": "code",
   "execution_count": 30,
   "id": "f3370e9c",
   "metadata": {},
   "outputs": [],
   "source": [
    "# Set the first, more general part, of the pretrained network as non-trainable.\n",
    "for layer in model.layers[:-23]:\n",
    "    layer.trainable = False"
   ]
  },
  {
   "cell_type": "code",
   "execution_count": 31,
   "id": "95c5057a",
   "metadata": {},
   "outputs": [],
   "source": [
    "# Show the model\n",
    "# model.summary()"
   ]
  },
  {
   "cell_type": "code",
   "execution_count": 32,
   "id": "9e9be033",
   "metadata": {},
   "outputs": [],
   "source": [
    "model.compile(optimizer=Adam(learning_rate=0.0001), loss='categorical_crossentropy', metrics=['accuracy',f1_m])"
   ]
  },
  {
   "cell_type": "markdown",
   "id": "d34fde02",
   "metadata": {},
   "source": [
    "# Train\n",
    "We have seen that the model overfits rapidly. How ever, there are some epochs where the loss of validation test stills being the same but the accuracy gets better. We have seen that the best epoch value for our case is 20."
   ]
  },
  {
   "cell_type": "code",
   "execution_count": 33,
   "id": "bad417c1",
   "metadata": {},
   "outputs": [
    {
     "name": "stdout",
     "output_type": "stream",
     "text": [
      "Epoch 1/20\n",
      "96/96 [==============================] - 12s 71ms/step - loss: 0.6827 - accuracy: 0.7164 - f1_m: 0.7036\n",
      "Epoch 2/20\n",
      "96/96 [==============================] - 6s 63ms/step - loss: 0.3213 - accuracy: 0.8922 - f1_m: 0.8879\n",
      "Epoch 3/20\n",
      "96/96 [==============================] - 6s 63ms/step - loss: 0.1924 - accuracy: 0.9526 - f1_m: 0.9529\n",
      "Epoch 4/20\n",
      "96/96 [==============================] - 6s 63ms/step - loss: 0.1144 - accuracy: 0.9856 - f1_m: 0.9860\n",
      "Epoch 5/20\n",
      "96/96 [==============================] - 6s 63ms/step - loss: 0.0740 - accuracy: 0.9959 - f1_m: 0.9953\n",
      "Epoch 6/20\n",
      "96/96 [==============================] - 6s 63ms/step - loss: 0.0503 - accuracy: 0.9985 - f1_m: 0.9986\n",
      "Epoch 7/20\n",
      "96/96 [==============================] - 6s 62ms/step - loss: 0.0341 - accuracy: 1.0000 - f1_m: 0.9999\n",
      "Epoch 8/20\n",
      "96/96 [==============================] - 6s 63ms/step - loss: 0.0264 - accuracy: 0.9997 - f1_m: 0.9995\n",
      "Epoch 9/20\n",
      "96/96 [==============================] - 6s 63ms/step - loss: 0.0203 - accuracy: 0.9998 - f1_m: 0.9998\n",
      "Epoch 10/20\n",
      "96/96 [==============================] - 6s 63ms/step - loss: 0.0162 - accuracy: 1.0000 - f1_m: 1.0000\n",
      "Epoch 11/20\n",
      "96/96 [==============================] - 6s 63ms/step - loss: 0.0124 - accuracy: 1.0000 - f1_m: 1.0000\n",
      "Epoch 12/20\n",
      "96/96 [==============================] - 6s 62ms/step - loss: 0.0113 - accuracy: 0.9998 - f1_m: 0.9998\n",
      "Epoch 13/20\n",
      "96/96 [==============================] - 6s 63ms/step - loss: 0.0099 - accuracy: 1.0000 - f1_m: 1.0000\n",
      "Epoch 14/20\n",
      "96/96 [==============================] - 6s 63ms/step - loss: 0.0070 - accuracy: 1.0000 - f1_m: 1.0000\n",
      "Epoch 15/20\n",
      "96/96 [==============================] - 6s 63ms/step - loss: 0.0055 - accuracy: 1.0000 - f1_m: 1.0000\n",
      "Epoch 16/20\n",
      "96/96 [==============================] - 6s 63ms/step - loss: 0.0050 - accuracy: 1.0000 - f1_m: 1.0000\n",
      "Epoch 17/20\n",
      "96/96 [==============================] - 6s 63ms/step - loss: 0.0042 - accuracy: 1.0000 - f1_m: 1.0000\n",
      "Epoch 18/20\n",
      "96/96 [==============================] - 6s 63ms/step - loss: 0.0040 - accuracy: 1.0000 - f1_m: 1.0000\n",
      "Epoch 19/20\n",
      "96/96 [==============================] - 6s 63ms/step - loss: 0.0031 - accuracy: 1.0000 - f1_m: 1.0000\n",
      "Epoch 20/20\n",
      "96/96 [==============================] - 6s 62ms/step - loss: 0.0035 - accuracy: 1.0000 - f1_m: 1.0000\n"
     ]
    }
   ],
   "source": [
    "history = model.fit(X_train , y_train, epochs=20, batch_size = 64)"
   ]
  },
  {
   "cell_type": "code",
   "execution_count": 39,
   "id": "fad3cb9b",
   "metadata": {},
   "outputs": [
    {
     "data": {
      "image/png": "[encoded data removed]",
      "text/plain": [
       "<Figure size 640x480 with 1 Axes>"
      ]
     },
     "metadata": {},
     "output_type": "display_data"
    }
   ],
   "source": [
    "loss = history.history['loss']\n",
    "epochs = range(1, len(loss) + 1)\n",
    "plt.plot(epochs, loss, 'y', label='Training loss')\n",
    "plt.title('Training and validation loss')\n",
    "plt.xlabel('Epochs')\n",
    "plt.ylabel('Loss')\n",
    "plt.legend()\n",
    "plt.show()"
   ]
  },
  {
   "cell_type": "code",
   "execution_count": 35,
   "id": "1f961dee",
   "metadata": {},
   "outputs": [],
   "source": [
    "# Predict\n",
    "y_pred = model.predict(X_test)"
   ]
  },
  {
   "cell_type": "markdown",
   "id": "c45e5536",
   "metadata": {},
   "source": [
    "### Save the prediction"
   ]
  },
  {
   "cell_type": "code",
   "execution_count": 42,
   "id": "a7ecca65",
   "metadata": {},
   "outputs": [],
   "source": [
    "# Save the results\n",
    "from collections import OrderedDict\n",
    "import json\n",
    "\n",
    "def dump_preds(y_pred, filename='predictions.json'):\n",
    "\n",
    "    y_cats = np.argmax(y_pred, axis=1).tolist()\n",
    "    od = OrderedDict(zip(range(len(y_cats)), y_cats))\n",
    "    jsonfinal = {\"target\": od}\n",
    "\n",
    "    with open(filename, 'w') as json_file:\n",
    "        json.dump(jsonfinal, json_file)\n",
    "        \n",
    "dump_preds(y_pred)"
   ]
  }
 ],
 "metadata": {
  "kernelspec": {
   "display_name": "Python 3 (ipykernel)",
   "language": "python",
   "name": "python3"
  },
  "language_info": {
   "codemirror_mode": {
    "name": "ipython",
    "version": 3
   },
   "file_extension": ".py",
   "mimetype": "text/x-python",
   "name": "python",
   "nbconvert_exporter": "python",
   "pygments_lexer": "ipython3",
   "version": "3.9.15"
  }
 },
 "nbformat": 4,
 "nbformat_minor": 5
}
